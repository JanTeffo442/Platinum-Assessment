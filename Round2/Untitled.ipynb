{
 "cells": [
  {
   "cell_type": "code",
   "execution_count": 19,
   "id": "4a9f8cef",
   "metadata": {},
   "outputs": [],
   "source": [
    "import numpy as np\n",
    "import pandas as pd\n",
    "\n",
    "\n",
    "df_teacher = pd.DataFrame({\n",
    "\"name\": [\"Pep Guardiola\", \"Jurgen Klopp\", \"Mikel Arteta\", \"Zinadine Zidane\"],\n",
    "\"married\": [True, True, False, True],\n",
    "    \"school\": [\"Manchester High School\", \"Liverpool High School\", \"Arsenal High\", np.nan]\n",
    "})\n",
    "\n",
    "df_student = pd.DataFrame({\n",
    "\"teacher\": [\"Mikel Arteta\", \"Mikel Arteta\", \"Pep Guardiola\", \"Jurgen Klopp\", \"Jurgen Klopp\", \"Jurgen Klopp\", \"Pep Guardiola\",\"Pep Guardiola\",\"Mikel Arteta\"],\n",
    "    \"name\": [\"Bukayo Saka\", \"Gabriel Martinelli\", \"Jack Grealish\", \"Roberto Firmino\",\n",
    "                \"Andrew Robertson\", \"Darwin Nunez\", \"Ederson Moraes\", \"Manuel Akanji\", \"Thomas Partey\"],\n",
    "    \"age\": [21, 21, 27, 31, 28, 23, 29, 27, 29],\n",
    "    \"height\": ['2.1m','2.1m', '2.1m', '2.1m', '2.1m', '2.1m', '2.1m', '2.1m', '2.1m'],\n",
    "#     \"weight\": ['80kg','70kg','690kg','73kg','60kg','70kg','80kg','88kg','74kg'],\n",
    "    })"
   ]
  },
  {
   "cell_type": "markdown",
   "id": "f9799ce5",
   "metadata": {},
   "source": [
    "### Display df_teacher dataframe in json format"
   ]
  },
  {
   "cell_type": "code",
   "execution_count": 55,
   "id": "77edddbb",
   "metadata": {},
   "outputs": [
    {
     "data": {
      "text/plain": [
       "'[{\"name\":\"Pep Guardiola\",\"married\":true,\"school\":\"Manchester High School\"},{\"name\":\"Jurgen Klopp\",\"married\":true,\"school\":\"Liverpool High School\"},{\"name\":\"Mikel Arteta\",\"married\":false,\"school\":\"Arsenal High\"},{\"name\":\"Zinadine Zidane\",\"married\":true,\"school\":null}]'"
      ]
     },
     "execution_count": 55,
     "metadata": {},
     "output_type": "execute_result"
    }
   ],
   "source": [
    "teacher = df_teacher.to_json(orient='records')\n",
    "teacher"
   ]
  },
  {
   "cell_type": "markdown",
   "id": "31d135a8",
   "metadata": {},
   "source": [
    "### Display df_student dataframe in json format"
   ]
  },
  {
   "cell_type": "code",
   "execution_count": 54,
   "id": "6661b9d7",
   "metadata": {},
   "outputs": [
    {
     "data": {
      "text/plain": [
       "'[{\"teacher\":\"Mikel Arteta\",\"name\":\"Bukayo Saka\",\"age\":21,\"height\":\"2.1m\"},{\"teacher\":\"Mikel Arteta\",\"name\":\"Gabriel Martinelli\",\"age\":21,\"height\":\"2.1m\"},{\"teacher\":\"Pep Guardiola\",\"name\":\"Jack Grealish\",\"age\":27,\"height\":\"2.1m\"},{\"teacher\":\"Jurgen Klopp\",\"name\":\"Roberto Firmino\",\"age\":31,\"height\":\"2.1m\"},{\"teacher\":\"Jurgen Klopp\",\"name\":\"Andrew Robertson\",\"age\":28,\"height\":\"2.1m\"},{\"teacher\":\"Jurgen Klopp\",\"name\":\"Darwin Nunez\",\"age\":23,\"height\":\"2.1m\"},{\"teacher\":\"Pep Guardiola\",\"name\":\"Ederson Moraes\",\"age\":29,\"height\":\"2.1m\"},{\"teacher\":\"Pep Guardiola\",\"name\":\"Manuel Akanji\",\"age\":27,\"height\":\"2.1m\"},{\"teacher\":\"Mikel Arteta\",\"name\":\"Thomas Partey\",\"age\":29,\"height\":\"2.1m\"}]'"
      ]
     },
     "execution_count": 54,
     "metadata": {},
     "output_type": "execute_result"
    }
   ],
   "source": [
    "student = df_student.to_json(orient='records')\n",
    "student"
   ]
  },
  {
   "cell_type": "markdown",
   "id": "c9dbb55d",
   "metadata": {},
   "source": [
    "### Concatenate and display teacher_student dataframe"
   ]
  },
  {
   "cell_type": "code",
   "execution_count": 21,
   "id": "37fd8343",
   "metadata": {},
   "outputs": [
    {
     "name": "stdout",
     "output_type": "stream",
     "text": [
      "[[\"Pep Guardiola\",true,\"Manchester High School\",\"Mikel Arteta\",\"Bukayo Saka\",21,\"2.1m\"],[\"Jurgen Klopp\",true,\"Liverpool High School\",\"Mikel Arteta\",\"Gabriel Martinelli\",21,\"2.1m\"],[\"Mikel Arteta\",false,\"Arsenal High\",\"Pep Guardiola\",\"Jack Grealish\",27,\"2.1m\"],[\"Zinadine Zidane\",true,null,\"Jurgen Klopp\",\"Roberto Firmino\",31,\"2.1m\"],[null,null,null,\"Jurgen Klopp\",\"Andrew Robertson\",28,\"2.1m\"],[null,null,null,\"Jurgen Klopp\",\"Darwin Nunez\",23,\"2.1m\"],[null,null,null,\"Pep Guardiola\",\"Ederson Moraes\",29,\"2.1m\"],[null,null,null,\"Pep Guardiola\",\"Manuel Akanji\",27,\"2.1m\"],[null,null,null,\"Mikel Arteta\",\"Thomas Partey\",29,\"2.1m\"]]\n"
     ]
    }
   ],
   "source": [
    "teacher_student = pd.concat([df_teacher, df_student], axis=1).to_json(orient='values')\n",
    "print(teacher_student)"
   ]
  },
  {
   "cell_type": "markdown",
   "id": "e0ef1652",
   "metadata": {},
   "source": [
    "### Add weight column to df_student dataframe"
   ]
  },
  {
   "cell_type": "code",
   "execution_count": 14,
   "id": "54807de1",
   "metadata": {},
   "outputs": [
    {
     "data": {
      "text/plain": [
       "'[{\"teacher\":\"Mikel Arteta\",\"name\":\"Bukayo Saka\",\"age\":21,\"height\":\"2.1m\",\"weight\":\"80kg\"},{\"teacher\":\"Mikel Arteta\",\"name\":\"Gabriel Martinelli\",\"age\":21,\"height\":\"2.1m\",\"weight\":\"70kg\"},{\"teacher\":\"Pep Guardiola\",\"name\":\"Jack Grealish\",\"age\":27,\"height\":\"2.1m\",\"weight\":\"690kg\"},{\"teacher\":\"Jurgen Klopp\",\"name\":\"Roberto Firmino\",\"age\":31,\"height\":\"2.1m\",\"weight\":\"73kg\"},{\"teacher\":\"Jurgen Klopp\",\"name\":\"Andrew Robertson\",\"age\":28,\"height\":\"2.1m\",\"weight\":\"60kg\"},{\"teacher\":\"Jurgen Klopp\",\"name\":\"Darwin Nunez\",\"age\":23,\"height\":\"2.1m\",\"weight\":\"70kg\"},{\"teacher\":\"Pep Guardiola\",\"name\":\"Ederson Moraes\",\"age\":29,\"height\":\"2.1m\",\"weight\":\"80kg\"},{\"teacher\":\"Pep Guardiola\",\"name\":\"Manuel Akanji\",\"age\":27,\"height\":\"2.1m\",\"weight\":\"88kg\"},{\"teacher\":\"Mikel Arteta\",\"name\":\"Thomas Partey\",\"age\":29,\"height\":\"2.1m\",\"weight\":\"74kg\"}]'"
      ]
     },
     "execution_count": 14,
     "metadata": {},
     "output_type": "execute_result"
    }
   ],
   "source": [
    "weight = ['80kg','70kg','690kg','73kg','60kg','70kg','80kg','88kg','74kg']\n",
    "df_student['weight'] = weight\n",
    "df_student.to_json(orient='records')"
   ]
  },
  {
   "cell_type": "code",
   "execution_count": null,
   "id": "36fb34db",
   "metadata": {},
   "outputs": [],
   "source": []
  }
 ],
 "metadata": {
  "kernelspec": {
   "display_name": "Python 3 (ipykernel)",
   "language": "python",
   "name": "python3"
  },
  "language_info": {
   "codemirror_mode": {
    "name": "ipython",
    "version": 3
   },
   "file_extension": ".py",
   "mimetype": "text/x-python",
   "name": "python",
   "nbconvert_exporter": "python",
   "pygments_lexer": "ipython3",
   "version": "3.10.4"
  }
 },
 "nbformat": 4,
 "nbformat_minor": 5
}
